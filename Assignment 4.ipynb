{
 "cells": [
  {
   "cell_type": "markdown",
   "metadata": {},
   "source": [
    "# Assignment # 4"
   ]
  },
  {
   "cell_type": "code",
   "execution_count": 1,
   "metadata": {},
   "outputs": [
    {
     "name": "stdout",
     "output_type": "stream",
     "text": [
      "Muhammad Sarosh Faheem\n",
      "23\n",
      "Male\n",
      "PY03250\n",
      "saroshfaheem.sf@gmail.com\n",
      "Cisco Python Cerficication\n",
      "4\n",
      "Saylani Foundation\n",
      "Muhammad Ali Mughal\n"
     ]
    }
   ],
   "source": [
    "Student =  {\"Name\": \"Muhammad Sarosh Faheem\",\n",
    "                 \"Age\": 23,\n",
    "                  \"Gender\": \"Male\",\n",
    "                  \"Roll No\": \"PY03250\",\n",
    "                  \"email ID\": \"saroshfaheem.sf@gmail.com\",\n",
    "                  \"Course\": \"Cisco Python Cerficication\",\n",
    "            \"Assignment\": 4,\n",
    "                  \"Institute\": \"Saylani Foundation\",\n",
    "                  \"Faculty\": \"Muhammad Ali Mughal\"}\n",
    "                 \n",
    "\n",
    "for Data in Student.values(): \n",
    "    print(Data)\n",
    "    # Remove the #\n",
    "#print(Student[\"Enter Key\"])"
   ]
  },
  {
   "cell_type": "code",
   "execution_count": null,
   "metadata": {},
   "outputs": [],
   "source": [
    "#Questions:\n",
    "'''\n",
    "Q1: Use a dictionary to store information about a person you know. Store their first name, last name, age, and the city in which\n",
    "they live. You should have keys such as first_name, last_name, age, and city. Print each piece of information stored in your\n",
    "dictionary. “Add a new key value pair about qualification then update the qualification value to high academic level then delete\n",
    "it.\n",
    "\n",
    "Q2: Make a dictionary called cities. “Use the names of three cities as keys in your dictionary”. Create a dictionary of\n",
    "information about each city and include the country that the city is in”, its approximate population, and one fact about that\n",
    "city. The keys for each city’s dictionary should be something like country, population, and fact. Print the name of each city\n",
    "and all of the information you have stored about it.\n",
    "\n",
    "Q3: A movie theater charges different ticket prices depending on a person’s age. If a person is under the age of 3, the ticket\n",
    "is free; if they are between 3 and 12, the ticket is $10; and if they are over age 12, the ticket is $15. Write a loop in which\n",
    "you ask users their age, and then tell them the cost of their movie ticket.\n",
    "\n",
    "Q4: Write a function called favorite_book() that accepts one parameter, title. The function should print a message, such as One\n",
    "of my favorite books is Alice in Wonderland. Call the function, making sure to include a book title as an argument in the\n",
    "function call.\n",
    "\n",
    "Q5: Guess the number game\n",
    "Write a program which randomly generate a number between 1 to 30 and ask the user in input field to guess the correct number.\n",
    "Give three chances to user guess the number and also give hint to user if hidden number is greater or smaller than the number\n",
    "he given to input field.'''"
   ]
  },
  {
   "cell_type": "code",
   "execution_count": 6,
   "metadata": {},
   "outputs": [
    {
     "data": {
      "text/plain": [
       "{'first_name': 'Sarosh', 'second_name': 'Faheem', 'age': 23, 'city': 'Karachi'}"
      ]
     },
     "execution_count": 6,
     "metadata": {},
     "output_type": "execute_result"
    }
   ],
   "source": [
    "#Q1:\n",
    "#Persons Information:\n",
    "person = {\n",
    "    \"first_name\": \"Sarosh\",\n",
    "    \"second_name\": \"Faheem\",\n",
    "    \"age\": 23,\n",
    "    \"city\": \"Karachi\"\n",
    "        }\n",
    "person                           #created dictionary"
   ]
  },
  {
   "cell_type": "code",
   "execution_count": 25,
   "metadata": {},
   "outputs": [
    {
     "name": "stdout",
     "output_type": "stream",
     "text": [
      "Sarosh\n",
      "Faheem\n",
      "23\n",
      "Karachi\n"
     ]
    }
   ],
   "source": [
    "for student in person.values():\n",
    "    print(student)"
   ]
  },
  {
   "cell_type": "code",
   "execution_count": 28,
   "metadata": {},
   "outputs": [
    {
     "data": {
      "text/plain": [
       "{'first_name': 'Sarosh',\n",
       " 'second_name': 'Faheem',\n",
       " 'age': 23,\n",
       " 'city': 'Karachi',\n",
       " 'qualification': 'High Academic Level'}"
      ]
     },
     "execution_count": 28,
     "metadata": {},
     "output_type": "execute_result"
    }
   ],
   "source": [
    "person[\"qualification\"] = (\"High Academic Level\")\n",
    "person                           #Added Qualification: High Academic Level"
   ]
  },
  {
   "cell_type": "code",
   "execution_count": 29,
   "metadata": {},
   "outputs": [
    {
     "name": "stdout",
     "output_type": "stream",
     "text": [
      "{'first_name': 'Sarosh', 'second_name': 'Faheem', 'age': 23, 'city': 'Karachi'}\n"
     ]
    }
   ],
   "source": [
    "del person['qualification']\n",
    "print(person)                     #Remove Qualification: High Academic Level, by using delete"
   ]
  },
  {
   "cell_type": "code",
   "execution_count": 66,
   "metadata": {
    "scrolled": true
   },
   "outputs": [
    {
     "name": "stdout",
     "output_type": "stream",
     "text": [
      "['Pakistan', 'Economic Hub', 'Sindh Province', 'Largest City', 'Population 15,741,406(2019)']\n"
     ]
    }
   ],
   "source": [
    "#Q2:\n",
    "#Cities Informaton:\n",
    "cities = {\n",
    "    'Karachi': ['Pakistan','Economic Hub','Sindh Province', 'Largest City', 'Population 15,741,406(2019)'],\n",
    "          'Lahore': ['Pakistan', 'Historical','Punjab Province', 'Smallest City', 'Population 12,188,196(2019)'],\n",
    "          'Islamabad':['Pakistan', 'Capital Of Pakistan','Punjab Province', 'larger than Lahore', 'Populaton 1,095,064(2019)'],\n",
    "}\n",
    "print(cities['Karachi'])"
   ]
  },
  {
   "cell_type": "code",
   "execution_count": 67,
   "metadata": {},
   "outputs": [
    {
     "name": "stdout",
     "output_type": "stream",
     "text": [
      "['Pakistan', 'Historical', 'Punjab Province', 'Smallest City', 'Population 12,188,196(2019)']\n"
     ]
    }
   ],
   "source": [
    "print(cities['Lahore'])"
   ]
  },
  {
   "cell_type": "code",
   "execution_count": 68,
   "metadata": {},
   "outputs": [
    {
     "name": "stdout",
     "output_type": "stream",
     "text": [
      "['Pakistan', 'Capital Of Pakistan', 'Punjab Province', 'larger than Lahore', 'Populaton 1,095,064(2019)']\n"
     ]
    }
   ],
   "source": [
    "print(cities['Islamabad'])"
   ]
  },
  {
   "cell_type": "code",
   "execution_count": 2,
   "metadata": {},
   "outputs": [
    {
     "name": "stdout",
     "output_type": "stream",
     "text": [
      "Enter your age: 8\n",
      "your ticket prize is $10\n"
     ]
    }
   ],
   "source": [
    "#Q3:\n",
    "#Ticket Concept:\n",
    "age = int(input('Enter your age: '))\n",
    "if age <= 3:\n",
    "    print('your ticket is Free')\n",
    "elif age <=12:\n",
    "    print('your ticket prize is $10')\n",
    "elif age >=12:\n",
    "    print('your ticket prize is $15')"
   ]
  },
  {
   "cell_type": "code",
   "execution_count": 4,
   "metadata": {},
   "outputs": [
    {
     "name": "stdout",
     "output_type": "stream",
     "text": [
      "Enter your Favorite Book: Harry Potter\n",
      "My Favourite Book Is Harry Potter\n"
     ]
    }
   ],
   "source": [
    "#Q4:\n",
    "#favourite Book:\n",
    "def favourite_book():\n",
    "    favourite_book = input(\"Enter your Favorite Book: \")\n",
    "    print(\"My Favourite Book Is\", favourite_book)\n",
    "\n",
    "favourite_book()"
   ]
  },
  {
   "cell_type": "code",
   "execution_count": 26,
   "metadata": {},
   "outputs": [
    {
     "name": "stdout",
     "output_type": "stream",
     "text": [
      "28\n",
      "Enter your Lucky Number: 29\n",
      "Your guess is too High\n"
     ]
    }
   ],
   "source": [
    "#Q5:\n",
    "#Guess a Number Game:\n",
    "import random\n",
    "hidden = random.randrange(1, 30)\n",
    "print(hidden)\n",
    "\n",
    "guess = int(input('Enter your Lucky Number: '))\n",
    "\n",
    "if guess == hidden:\n",
    "    print('HIT.!')\n",
    "elif guess < hidden:\n",
    "    print('Your guess is too Low')\n",
    "elif guess > hidden:\n",
    "    print('Your guess is too High')"
   ]
  }
 ],
 "metadata": {
  "kernelspec": {
   "display_name": "Python 3",
   "language": "python",
   "name": "python3"
  },
  "language_info": {
   "codemirror_mode": {
    "name": "ipython",
    "version": 3
   },
   "file_extension": ".py",
   "mimetype": "text/x-python",
   "name": "python",
   "nbconvert_exporter": "python",
   "pygments_lexer": "ipython3",
   "version": "3.7.4"
  }
 },
 "nbformat": 4,
 "nbformat_minor": 2
}

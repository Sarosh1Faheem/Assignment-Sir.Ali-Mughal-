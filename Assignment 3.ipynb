{
 "cells": [
  {
   "cell_type": "markdown",
   "metadata": {},
   "source": [
    "# Assignment 3"
   ]
  },
  {
   "cell_type": "code",
   "execution_count": 1,
   "metadata": {},
   "outputs": [
    {
     "name": "stdout",
     "output_type": "stream",
     "text": [
      "Muhammad Sarosh Faheem\n",
      "23\n",
      "Male\n",
      "PY03250\n",
      "saroshfaheem.sf@gmail.com\n",
      "Cisco Python Cerficication\n",
      "3\n",
      "Saylani Foundation\n",
      "Muhammad Ali Mughal\n"
     ]
    }
   ],
   "source": [
    "Student =  {\"Name\": \"Muhammad Sarosh Faheem\",\n",
    "                 \"Age\": 23,\n",
    "                  \"Gender\": \"Male\",\n",
    "                  \"Roll No\": \"PY03250\",\n",
    "                  \"email ID\": \"saroshfaheem.sf@gmail.com\",\n",
    "                  \"Course\": \"Cisco Python Cerficication\",\n",
    "            \"Assignment\": 3,\n",
    "                  \"Institute\": \"Saylani Foundation\",\n",
    "                  \"Faculty\": \"Muhammad Ali Mughal\"}\n",
    "                 \n",
    "\n",
    "for Data in Student.values(): \n",
    "    print(Data)\n",
    "    # Remove the #\n",
    "#print(Student[\"Enter Key\"])\n",
    "#print(Student[\"Ente Key\"])"
   ]
  },
  {
   "cell_type": "code",
   "execution_count": null,
   "metadata": {},
   "outputs": [],
   "source": [
    "#Questions;\n",
    "'''\n",
    "Q1) Make a Calculator using Python with addition, subtraction, multiplication, division and power. \n",
    "Q2) Write a program to check if there is any numeric value in list using for loop.\n",
    "Q3) Write a Python script to add a key to a dictionary.\n",
    "Q4) Write a Python program to sum all the numeric items in a dictionary.\n",
    "Q5) Write a program to identify duplicate values from list.\n",
    "Q6) Write a Python script to check if a given key already exists in a dictionary.\n",
    "'''"
   ]
  },
  {
   "cell_type": "code",
   "execution_count": 2,
   "metadata": {},
   "outputs": [
    {
     "name": "stdout",
     "output_type": "stream",
     "text": [
      "Select Operation\n",
      "1.Add\n",
      "2.Subtract\n",
      "3.Multiply\n",
      "4.Divide\n",
      "5.Power\n",
      "Enter choice(1/2/3/4/5): 3\n",
      "Enter First Number: 3\n",
      "Enter Second Number: 3\n",
      "3.0 * 3.0 = 6.0\n"
     ]
    }
   ],
   "source": [
    "#Q1:\n",
    "#Function(Calculator):\n",
    "def add(num1, num2):\n",
    "    return num1+num2\n",
    "def sub(num1, num2):\n",
    "    return num1-num2\n",
    "def mul(num1, num2):\n",
    "    return num1*num2  \n",
    "def div(num1, num2):\n",
    "    return num1/num2\n",
    "def power(num1, num2):\n",
    "    return num1**num2\n",
    "print (\"Select Operation\")\n",
    "print(\"1.Add\")\n",
    "print(\"2.Subtract\")\n",
    "print(\"3.Multiply\")\n",
    "print(\"4.Divide\")\n",
    "print(\"5.Power\")\n",
    "choice = input(\"Enter choice(1/2/3/4/5): \")\n",
    "\n",
    "num1 = float(input(\"Enter First Number: \"))\n",
    "num2 = float(input(\"Enter Second Number: \"))\n",
    "\n",
    "if choice =='1':\n",
    "    print(num1, '+', num2,'=', add(num1,num2))\n",
    "elif choice =='2':\n",
    "    print(num1, '-', num2,'=', add(num1,num2))\n",
    "elif choice =='3':\n",
    "    print(num1, '*', num2,'=', add(num1,num2))\n",
    "elif choice =='4':\n",
    "    print(num1, '/', num2,'=', add(num1,num2))\n",
    "elif choice =='5':\n",
    "    print(num1, '**', num2,'=', power(num1, num2))"
   ]
  },
  {
   "cell_type": "code",
   "execution_count": null,
   "metadata": {},
   "outputs": [],
   "source": [
    "# %load calculator.py\n",
    "def add(a, b):\n",
    "    return a+b\n",
    "def sub(a, b):\n",
    "    return a-b\n",
    "def mul(a, b):\n",
    "    return a*b\n",
    "def power(a, b):\n",
    "    return a**b\n",
    "def div(a, b):\n",
    "    return a/b\n",
    "def power(a, b):\n",
    "    return a**b"
   ]
  },
  {
   "cell_type": "code",
   "execution_count": 22,
   "metadata": {},
   "outputs": [],
   "source": [
    "#Modulistic Calculator\n",
    "#Importing Calculator module\n",
    "import calculator as c"
   ]
  },
  {
   "cell_type": "code",
   "execution_count": 23,
   "metadata": {},
   "outputs": [
    {
     "data": {
      "text/plain": [
       "10"
      ]
     },
     "execution_count": 23,
     "metadata": {},
     "output_type": "execute_result"
    }
   ],
   "source": [
    "c.add(4,6)"
   ]
  },
  {
   "cell_type": "code",
   "execution_count": 25,
   "metadata": {},
   "outputs": [
    {
     "data": {
      "text/plain": [
       "2"
      ]
     },
     "execution_count": 25,
     "metadata": {},
     "output_type": "execute_result"
    }
   ],
   "source": [
    "c.sub(6,4)"
   ]
  },
  {
   "cell_type": "code",
   "execution_count": 26,
   "metadata": {},
   "outputs": [
    {
     "data": {
      "text/plain": [
       "4"
      ]
     },
     "execution_count": 26,
     "metadata": {},
     "output_type": "execute_result"
    }
   ],
   "source": [
    "c.mul(2,2)"
   ]
  },
  {
   "cell_type": "code",
   "execution_count": 27,
   "metadata": {},
   "outputs": [
    {
     "data": {
      "text/plain": [
       "2.0"
      ]
     },
     "execution_count": 27,
     "metadata": {},
     "output_type": "execute_result"
    }
   ],
   "source": [
    "c.div(6,3)"
   ]
  },
  {
   "cell_type": "code",
   "execution_count": 28,
   "metadata": {},
   "outputs": [
    {
     "data": {
      "text/plain": [
       "27"
      ]
     },
     "execution_count": 28,
     "metadata": {},
     "output_type": "execute_result"
    }
   ],
   "source": [
    "c.power(3,3)"
   ]
  },
  {
   "cell_type": "code",
   "execution_count": 29,
   "metadata": {},
   "outputs": [
    {
     "data": {
      "text/plain": [
       "9"
      ]
     },
     "execution_count": 29,
     "metadata": {},
     "output_type": "execute_result"
    }
   ],
   "source": [
    "c.power(3,2)"
   ]
  },
  {
   "cell_type": "code",
   "execution_count": 61,
   "metadata": {},
   "outputs": [
    {
     "name": "stdout",
     "output_type": "stream",
     "text": [
      "[23, 21, 25, 30] ['Sarosh', 'Ahmed', 'Ali', 'Rafai']\n"
     ]
    }
   ],
   "source": [
    "#Q2:\n",
    "def split(noun, numb):\n",
    "    return[n for n in noun if isinstance(n, numb)]\n",
    "\n",
    "mylist = ['Sarosh', 'Ahmed', 23, 'Ali', 21, 25, 'Rafai', 30]\n",
    "noun = split(mylist,int)\n",
    "numb = split(mylist,str)\n",
    "print(noun, numb)"
   ]
  },
  {
   "cell_type": "code",
   "execution_count": 87,
   "metadata": {},
   "outputs": [
    {
     "name": "stdout",
     "output_type": "stream",
     "text": [
      "True\n",
      "True\n",
      "True\n",
      "True\n",
      "True\n",
      "True\n",
      "True\n",
      "True\n",
      "False\n"
     ]
    }
   ],
   "source": [
    "list_A = ['Sarosh', 'Ahmed', 23, 'Ali', 21, 25, 'Rafai', 30]\n",
    "for list_B in list_A:\n",
    "    if 23 in list_A:\n",
    "        print('True')\n",
    "else:\n",
    "    print('False')"
   ]
  },
  {
   "cell_type": "code",
   "execution_count": 36,
   "metadata": {},
   "outputs": [
    {
     "data": {
      "text/plain": [
       "{'1st name': 'Muhammad',\n",
       " 'mid name': 'Sarosh',\n",
       " 'last name': 'Faheem',\n",
       " 'contact': ['0312-3790-923', 'saroshfaheem1996@gmail.com']}"
      ]
     },
     "execution_count": 36,
     "metadata": {},
     "output_type": "execute_result"
    }
   ],
   "source": [
    "#Q3:\n",
    "#Appending in Dictionary\n",
    "student = {\n",
    "    '1st name': 'Muhammad',\n",
    "    'mid name': 'Sarosh',\n",
    "    'last name':'Faheem',\n",
    "    'contact':['0312-3790-923', 'saroshfaheem.sf@gmail.com' and 'saroshfaheem1996@gmail.com']\n",
    "          }\n",
    "student"
   ]
  },
  {
   "cell_type": "code",
   "execution_count": 37,
   "metadata": {},
   "outputs": [
    {
     "data": {
      "text/plain": [
       "{'1st name': 'Muhammad',\n",
       " 'mid name': 'Sarosh',\n",
       " 'last name': 'Faheem',\n",
       " 'contact': ['0312-3790-923', 'saroshfaheem1996@gmail.com'],\n",
       " 'Faculty': 'Muhammad Ali Mughal'}"
      ]
     },
     "execution_count": 37,
     "metadata": {},
     "output_type": "execute_result"
    }
   ],
   "source": [
    "student['Faculty'] = \"Muhammad Ali Mughal\"\n",
    "student"
   ]
  },
  {
   "cell_type": "code",
   "execution_count": 40,
   "metadata": {},
   "outputs": [
    {
     "name": "stdout",
     "output_type": "stream",
     "text": [
      "Doesn't Exist\n"
     ]
    }
   ],
   "source": [
    "#Q6:\n",
    "if 'Faculty1' in student:\n",
    "    print('It Already Exist')\n",
    "else:\n",
    "    print(\"Doesn't Exist\")"
   ]
  },
  {
   "cell_type": "code",
   "execution_count": 24,
   "metadata": {},
   "outputs": [
    {
     "name": "stdout",
     "output_type": "stream",
     "text": [
      "Total Sum: 150\n"
     ]
    }
   ],
   "source": [
    "#Q4:\n",
    "# Dictionary Sum\n",
    "list_A = {\n",
    "    \"A\": 20,\n",
    "    \"B\": 25,\n",
    "    \"C\": 30,\n",
    "    \"D\": 35,\n",
    "    \"E\": 40,\n",
    "}\n",
    "total = sum(list_A.values())\n",
    "print('Total Sum:', total)"
   ]
  },
  {
   "cell_type": "code",
   "execution_count": 52,
   "metadata": {},
   "outputs": [
    {
     "name": "stdout",
     "output_type": "stream",
     "text": [
      "[1, 2, 3, 4, 5]\n"
     ]
    }
   ],
   "source": [
    "#Q5:\n",
    "#Identifying Duplicate Items\n",
    "myList = [1, 2, 3, 4, 5, 2, 3, 4]\n",
    "myList = list(dict.fromkeys(myList))\n",
    "print(myList)"
   ]
  },
  {
   "cell_type": "code",
   "execution_count": 53,
   "metadata": {},
   "outputs": [
    {
     "name": "stdout",
     "output_type": "stream",
     "text": [
      "[1, 5]\n"
     ]
    }
   ],
   "source": [
    "myList = [1, 2, 3, 4, 5, 2, 3, 4]\n",
    "list2 = [i for i in range(len(myList)) if myList[i] == 2] #<-- Defined Value\n",
    "print(list2) #Tell the index of defined Value"
   ]
  }
 ],
 "metadata": {
  "kernelspec": {
   "display_name": "Python 3",
   "language": "python",
   "name": "python3"
  },
  "language_info": {
   "codemirror_mode": {
    "name": "ipython",
    "version": 3
   },
   "file_extension": ".py",
   "mimetype": "text/x-python",
   "name": "python",
   "nbconvert_exporter": "python",
   "pygments_lexer": "ipython3",
   "version": "3.7.4"
  }
 },
 "nbformat": 4,
 "nbformat_minor": 2
}

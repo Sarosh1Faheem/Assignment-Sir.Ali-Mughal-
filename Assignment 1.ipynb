{
 "cells": [
  {
   "cell_type": "markdown",
   "metadata": {},
   "source": [
    "# Assignment # 1"
   ]
  },
  {
   "cell_type": "code",
   "execution_count": null,
   "metadata": {},
   "outputs": [],
   "source": []
  },
  {
   "cell_type": "code",
   "execution_count": 6,
   "metadata": {},
   "outputs": [
    {
     "name": "stdout",
     "output_type": "stream",
     "text": [
      "Muhammad Sarosh Faheem\n",
      "23\n",
      "Male\n",
      "PY03250\n",
      "saroshfaheem.sf@gmail.com\n",
      "Cisco Python Cerficication\n",
      "1\n",
      "Saylani Foundation\n",
      "Muhammad Ali Mughal\n"
     ]
    }
   ],
   "source": [
    "Student =  {\"Name\": \"Muhammad Sarosh Faheem\",\n",
    "                 \"Age\": 23,\n",
    "                  \"Gender\": \"Male\",\n",
    "                  \"Roll No\": \"PY03250\",\n",
    "                  \"email ID\": \"saroshfaheem.sf@gmail.com\",\n",
    "                  \"Course\": \"Cisco Python Cerficication\",\n",
    "            \"Assignment\": 1,\n",
    "                  \"Institute\": \"Saylani Foundation\",\n",
    "                  \"Faculty\": \"Muhammad Ali Mughal\"}\n",
    "                 \n",
    "\n",
    "for Data in Student.values(): \n",
    "    print(Data)\n",
    "    # Remove the #\n",
    "#print(Student[\"Enter Key\"])\n",
    "#print(Student[\"Ente Key\"])"
   ]
  },
  {
   "cell_type": "code",
   "execution_count": null,
   "metadata": {},
   "outputs": [],
   "source": [
    "#Sequence Of Questions:\n",
    "#Sequence Of Questions:\n",
    "'''Q6: Write a python program which take two inputs fromuser and print them addition\n",
    "\n",
    "Q3: Write a Python program to display the current date and time.\n",
    "\n",
    "Q5: Write a python program which accepts the user's first name and last name and print them in a reverse order with a space\n",
    "between them.\n",
    "\n",
    "Q4: Write a Python program which accepts the radius of a circle from the user and compute the area.\n",
    "\n",
    "Q1: Write a Python program to print the following string in a specific format\n",
    "\n",
    "Q2:  Write a program to get python version you are using''' "
   ]
  },
  {
   "cell_type": "code",
   "execution_count": 3,
   "metadata": {},
   "outputs": [
    {
     "name": "stdout",
     "output_type": "stream",
     "text": [
      "Enter your First Name Sarosh\n",
      "Enter your Second Name Faheem\n",
      "FaheemSarosh\n"
     ]
    }
   ],
   "source": [
    "#Q6\n",
    "#Concatenation\n",
    "first_name = input(\"Enter your First Name \")\n",
    "second_name = input(\"Enter your Second Name \")\n",
    "print(second_name + first_name)"
   ]
  },
  {
   "cell_type": "code",
   "execution_count": 10,
   "metadata": {},
   "outputs": [
    {
     "name": "stdout",
     "output_type": "stream",
     "text": [
      "now = 2019-11-12 00:44:40.302187\n",
      "d1:  12-11-2019\n"
     ]
    }
   ],
   "source": [
    "#Q3:\n",
    "#Current Date And Time:\n",
    "from datetime import datetime\n",
    "now = datetime.now()\n",
    "today = datetime.today()\n",
    "day = today.strftime(\"%d-%m-%Y\")\n",
    "print(\"now =\", now)\n",
    "print(\"d1: \", d1)"
   ]
  },
  {
   "cell_type": "code",
   "execution_count": 24,
   "metadata": {},
   "outputs": [
    {
     "name": "stdout",
     "output_type": "stream",
     "text": [
      "d1 = 10-11-2019\n",
      "d2 = November'10, 2019\n",
      "d3 = 11/10/19,2019, 00\n"
     ]
    }
   ],
   "source": [
    "#Date And Time Format:\n",
    "today = date.today()\n",
    "d1 = today.strftime(\"%d-%m-%Y\")\n",
    "print(\"d1 =\", d1)     \n",
    "d2 = today.strftime(\"%B'%d, %Y\")\n",
    "print(\"d2 =\", d2)\n",
    "d3 = today.strftime(\"%D,%Y, %M\")\n",
    "print(\"d3 =\", d3)"
   ]
  },
  {
   "cell_type": "code",
   "execution_count": 4,
   "metadata": {
    "scrolled": false
   },
   "outputs": [
    {
     "name": "stdout",
     "output_type": "stream",
     "text": [
      "Enter Your First Name: Sarosh\n",
      "Enter Your Second Name: Faheem\n",
      "Hello Sarosh Faheem Wellcome to Cisco Certification Of Python\n",
      "hsoraS meehaF\n"
     ]
    }
   ],
   "source": [
    "#Q5:\n",
    "#Concatenation With Reverse Order Name\n",
    "first_name = input(\"Enter Your First Name: \")\n",
    "second_name = input(\"Enter Your Second Name: \")\n",
    "print(\"Hello\", first_name + \" \"+ second_name, \"Wellcome to Cisco Certification Of Python\")\n",
    "print(first_name[::-1] + \" \" + second_name[::-1])"
   ]
  },
  {
   "cell_type": "code",
   "execution_count": 12,
   "metadata": {},
   "outputs": [
    {
     "name": "stdout",
     "output_type": "stream",
     "text": [
      "Enter Radius of a Circle 4\n",
      "Area of a circle is 50.24\n"
     ]
    }
   ],
   "source": [
    "#Q4:\n",
    "#Radius Of a Circle And Area Computing:\n",
    "print(\"Area of a circle is\", 3.14*float(input(\"Enter Radius of a Circle \"))**2)"
   ]
  },
  {
   "cell_type": "code",
   "execution_count": 130,
   "metadata": {},
   "outputs": [
    {
     "name": "stdout",
     "output_type": "stream",
     "text": [
      "Twinkle Twinkle, Little Star,\n",
      "   How I Wonder What you are! \n",
      "     Up Above the World So High \n",
      "     Like a Diamond In The Sky \n",
      "Twinkle Twinkle, Little Star,\n",
      " How I Wonder What you are!\n"
     ]
    }
   ],
   "source": [
    "'''Q1: Write a Python program to print the following string\n",
    "in a specific format'''\n",
    "print(\"Twinkle Twinkle, Little Star,\\n   How I Wonder What you are! \\n     Up Above the World So High \\n     Like a Diamond In The Sky \\nTwinkle Twinkle, Little Star,\\n How I Wonder What you are!\")"
   ]
  },
  {
   "cell_type": "code",
   "execution_count": 125,
   "metadata": {
    "scrolled": true
   },
   "outputs": [
    {
     "name": "stdout",
     "output_type": "stream",
     "text": [
      "3.7.3\n"
     ]
    }
   ],
   "source": [
    "'''Q2: Write a program to get python version you are using'''\n",
    "#Python Version\n",
    "from platform import python_version\n",
    "print(python_version())"
   ]
  },
  {
   "cell_type": "code",
   "execution_count": null,
   "metadata": {},
   "outputs": [],
   "source": [
    "#Through Command Prompt/Shell\n",
    "Open Command Prompt\n",
    "write Command: python --version (To get python Version)"
   ]
  }
 ],
 "metadata": {
  "kernelspec": {
   "display_name": "Python 3",
   "language": "python",
   "name": "python3"
  },
  "language_info": {
   "codemirror_mode": {
    "name": "ipython",
    "version": 3
   },
   "file_extension": ".py",
   "mimetype": "text/x-python",
   "name": "python",
   "nbconvert_exporter": "python",
   "pygments_lexer": "ipython3",
   "version": "3.7.4"
  }
 },
 "nbformat": 4,
 "nbformat_minor": 2
}

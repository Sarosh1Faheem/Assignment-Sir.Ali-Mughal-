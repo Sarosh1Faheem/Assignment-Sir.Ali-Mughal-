{
 "cells": [
  {
   "cell_type": "markdown",
   "metadata": {},
   "source": [
    "# Assignment 5"
   ]
  },
  {
   "cell_type": "code",
   "execution_count": 1,
   "metadata": {},
   "outputs": [
    {
     "name": "stdout",
     "output_type": "stream",
     "text": [
      "My name is, Muhammad Sarosh Faheem\n",
      "email : saroshfaheem.sf@gmail.com\n",
      "ID : PYON-03250\n",
      "Assignment : 5\n",
      "Course : Cisco Python Certification\n",
      "Faculty : Sir Ali Mughal\n",
      "city : Karachi\n"
     ]
    }
   ],
   "source": [
    "def my_func(suffix, name, fname, **params):\n",
    "    print(\"My name is, \" + suffix +\" \"+ name + \" \" + fname)\n",
    "    for key,value in params.items():\n",
    "        print(key+ \" \" +  \":\"+  \" \" + value)\n",
    "\n",
    "my_func(\"Muhammad\", \"Sarosh\",\"Faheem\", email = \"saroshfaheem.sf@gmail.com\", ID = \"PYON-03250\",Assignment = \"5\", Course = \"Cisco Python Certification\", Faculty = \"Sir Ali Mughal\", city = \"Karachi\")"
   ]
  },
  {
   "cell_type": "code",
   "execution_count": null,
   "metadata": {},
   "outputs": [],
   "source": [
    "#Sequence OF Questions:\n",
    "'''\n",
    "Q1: Write a Python function to calculate the factorial of a number (a non-negative integer). The Function accepts the number\n",
    "as an argument.\n",
    "\n",
    "Q2: Write a Python function that accepts a string and calculate a string and calculate the number of upper-case letters and\n",
    "lower case letters.\n",
    "\n",
    "Q3: Write a Python function to print the even number from a given list.\n",
    "\n",
    "Q4: Write a Python function that checks whether a passed string is palindrome or not.\n",
    "NOTE: A Palindrome is a word phrase, or sequence that reads the same backward as forward e.g. madam.\n",
    "\n",
    "Q5: Write a Python function that takes a number as a parameter and check the number is prime or not.\n",
    "\n",
    "Q6: Suppose a customer is shopping in a market and you need to print all the items which user bought from market.\n",
    "NOTE: Write a function which accepts the multiple arguments of user shopping list and print all the items which user bought\n",
    "from market.\n",
    "'''"
   ]
  },
  {
   "cell_type": "code",
   "execution_count": 13,
   "metadata": {},
   "outputs": [],
   "source": [
    "#Q1:\n",
    "#Calculator By Function\n",
    "def add(a, b):\n",
    "    return a+b\n",
    "def sub(a, b):\n",
    "    return a-b\n",
    "def mul(a, b):\n",
    "    return a*b\n",
    "def power(a, b):\n",
    "    return a**b\n",
    "def div(a, b):\n",
    "    return a/b\n",
    "def power(a, b):\n",
    "    return a**b"
   ]
  },
  {
   "cell_type": "code",
   "execution_count": 5,
   "metadata": {},
   "outputs": [
    {
     "data": {
      "text/plain": [
       "27"
      ]
     },
     "execution_count": 5,
     "metadata": {},
     "output_type": "execute_result"
    }
   ],
   "source": [
    "power(3,3)"
   ]
  },
  {
   "cell_type": "code",
   "execution_count": 11,
   "metadata": {},
   "outputs": [
    {
     "data": {
      "text/plain": [
       "3"
      ]
     },
     "execution_count": 11,
     "metadata": {},
     "output_type": "execute_result"
    }
   ],
   "source": [
    "div(9,3)"
   ]
  },
  {
   "cell_type": "code",
   "execution_count": 4,
   "metadata": {},
   "outputs": [
    {
     "name": "stdout",
     "output_type": "stream",
     "text": [
      "Original String:  A QUICK BROWN FOX, Jump OVER The Lazy Dog\n",
      "Total Upper Case:  22\n",
      "Total LOWER Case:  10\n"
     ]
    }
   ],
   "source": [
    "#Q2:\n",
    "#Upper And Lower Case Count:\n",
    "def countcase(strdata):\n",
    "    sencase = {'UCASE':0, \"LCASE\":0}\n",
    "    for k in strdata:\n",
    "        if k.isupper():\n",
    "            sencase[\"UCASE\"]+=1\n",
    "        elif k.islower():\n",
    "            sencase[\"LCASE\"]+=1\n",
    "        else:\n",
    "            pass\n",
    "    print('Original String: ', strdata)\n",
    "    print('Total Upper Case: ', sencase['UCASE'])\n",
    "    print('Total LOWER Case: ', sencase['LCASE'])\n",
    "\n",
    "countcase(\"A QUICK BROWN FOX, Jump OVER The Lazy Dog\")"
   ]
  },
  {
   "cell_type": "code",
   "execution_count": 14,
   "metadata": {},
   "outputs": [
    {
     "name": "stdout",
     "output_type": "stream",
     "text": [
      "[2]\n",
      "[2, 4]\n",
      "[2, 4, 6]\n",
      "[2, 4, 6, 8]\n",
      "[2, 4, 6, 8, 10]\n"
     ]
    }
   ],
   "source": [
    "#Q3:\n",
    "xs = [1, 2, 3, 4, 5, 6, 7, 8, 9, 10]\n",
    "even_No = []\n",
    "#odd_No = []\n",
    "def even():\n",
    "    for e in xs:\n",
    "        if e % 2 == 0:\n",
    "            even_No.append(e)\n",
    "            print(even_No)\n",
    "even()"
   ]
  },
  {
   "cell_type": "code",
   "execution_count": 43,
   "metadata": {},
   "outputs": [
    {
     "name": "stdout",
     "output_type": "stream",
     "text": [
      "Enter a String: hannah\n",
      "string:  hannah\n",
      "Reverse:  hannah\n",
      "It is a Palindrome\n"
     ]
    }
   ],
   "source": [
    "#Q4:\n",
    "#PalinDrome\n",
    "def check(PalinDrome):\n",
    "    rev=PalinDrome[::-1]\n",
    "    print(\"string: \", PalinDrome)\n",
    "    print(\"Reverse: \", rev)\n",
    "    if (PalinDrome==rev):\n",
    "        return True\n",
    "    else:\n",
    "        return False\n",
    "\n",
    "x = input(\"Enter a String: \")\n",
    "if check(x):\n",
    "    print(\"It is a Palindrome\")\n",
    "else:\n",
    "    print(\"It is NOT A Palindrome\")"
   ]
  },
  {
   "cell_type": "code",
   "execution_count": 65,
   "metadata": {},
   "outputs": [
    {
     "name": "stdout",
     "output_type": "stream",
     "text": [
      "Enter Any Positive Number to Check It is Prime Or NOT: 4\n",
      "4 is NOT a Prime Number\n"
     ]
    }
   ],
   "source": [
    "#Q5:\n",
    "def number():\n",
    "    n = int(input(\"Enter Any Positive Number to Check It is Prime Or NOT: \"))\n",
    "    if n > 1:\n",
    "        for p in range(2, n):\n",
    "            if (n % p) == 0:\n",
    "                print(n, \"is NOT a Prime Number\")\n",
    "                break\n",
    "        else:\n",
    "            print(n, \"is a Prime Number\")\n",
    "    else:\n",
    "        print(n, \"is not a Prime Number\")\n",
    "\n",
    "number()"
   ]
  },
  {
   "cell_type": "code",
   "execution_count": 66,
   "metadata": {},
   "outputs": [
    {
     "name": "stdout",
     "output_type": "stream",
     "text": [
      "Enter Any Positive Number to Check It is Prime Or NOT: 2\n",
      "2 is a Prime Number\n"
     ]
    }
   ],
   "source": [
    "number()"
   ]
  },
  {
   "cell_type": "code",
   "execution_count": 107,
   "metadata": {},
   "outputs": [
    {
     "ename": "TypeError",
     "evalue": "customer() got an unexpected keyword argument 'grocessories'",
     "output_type": "error",
     "traceback": [
      "\u001b[1;31m---------------------------------------------------------------------------\u001b[0m",
      "\u001b[1;31mTypeError\u001b[0m                                 Traceback (most recent call last)",
      "\u001b[1;32m<ipython-input-107-a019bcfc2487>\u001b[0m in \u001b[0;36m<module>\u001b[1;34m\u001b[0m\n\u001b[0;32m      3\u001b[0m     \u001b[1;32mfor\u001b[0m \u001b[0mvalue\u001b[0m \u001b[1;32min\u001b[0m \u001b[0mgrocessories\u001b[0m\u001b[1;33m.\u001b[0m\u001b[0mvalues\u001b[0m\u001b[1;33m(\u001b[0m\u001b[1;33m)\u001b[0m\u001b[1;33m:\u001b[0m\u001b[1;33m\u001b[0m\u001b[1;33m\u001b[0m\u001b[0m\n\u001b[0;32m      4\u001b[0m         \u001b[0mprint\u001b[0m\u001b[1;33m(\u001b[0m\u001b[0mvalue\u001b[0m\u001b[1;33m)\u001b[0m\u001b[1;33m\u001b[0m\u001b[1;33m\u001b[0m\u001b[0m\n\u001b[1;32m----> 5\u001b[1;33m \u001b[0mcustomer\u001b[0m\u001b[1;33m(\u001b[0m\u001b[1;34m\"Sarosh\"\u001b[0m\u001b[1;33m,\u001b[0m \u001b[1;34m\"Faheem\"\u001b[0m\u001b[1;33m,\u001b[0m \u001b[0mgrocessories\u001b[0m \u001b[1;33m=\u001b[0m \u001b[1;34m\"Cooking-Oil\"\u001b[0m\u001b[1;33m)\u001b[0m\u001b[1;33m\u001b[0m\u001b[1;33m\u001b[0m\u001b[0m\n\u001b[0m",
      "\u001b[1;31mTypeError\u001b[0m: customer() got an unexpected keyword argument 'grocessories'"
     ]
    }
   ],
   "source": [
    "def customer(name, fname, *grocessories):\n",
    "    print(name + \" \" + fname + \" \")\n",
    "    for value in grocessories.values():\n",
    "        print(value)\n",
    "customer(\"Sarosh\", \"Faheem\", grocessories = \"Cooking-Oil\")"
   ]
  },
  {
   "cell_type": "code",
   "execution_count": 123,
   "metadata": {},
   "outputs": [
    {
     "ename": "SyntaxError",
     "evalue": "unexpected character after line continuation character (<ipython-input-123-0614c72041b0>, line 3)",
     "output_type": "error",
     "traceback": [
      "\u001b[1;36m  File \u001b[1;32m\"<ipython-input-123-0614c72041b0>\"\u001b[1;36m, line \u001b[1;32m3\u001b[0m\n\u001b[1;33m    print(str(grocessories\\n))\u001b[0m\n\u001b[1;37m                              ^\u001b[0m\n\u001b[1;31mSyntaxError\u001b[0m\u001b[1;31m:\u001b[0m unexpected character after line continuation character\n"
     ]
    }
   ],
   "source": [
    "def customer(name, *grocessories):\n",
    "    print(name)\n",
    "    print(grocessories)\n",
    "customer(\"Sarosh\", \"Oil\", \"Suger\", \"Salt\")"
   ]
  }
 ],
 "metadata": {
  "kernelspec": {
   "display_name": "Python 3",
   "language": "python",
   "name": "python3"
  },
  "language_info": {
   "codemirror_mode": {
    "name": "ipython",
    "version": 3
   },
   "file_extension": ".py",
   "mimetype": "text/x-python",
   "name": "python",
   "nbconvert_exporter": "python",
   "pygments_lexer": "ipython3",
   "version": "3.7.4"
  }
 },
 "nbformat": 4,
 "nbformat_minor": 2
}

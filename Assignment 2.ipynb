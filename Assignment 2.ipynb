{
 "cells": [
  {
   "cell_type": "markdown",
   "metadata": {},
   "source": [
    "# Assignment 2"
   ]
  },
  {
   "cell_type": "code",
   "execution_count": 1,
   "metadata": {},
   "outputs": [
    {
     "name": "stdout",
     "output_type": "stream",
     "text": [
      "Muhammad Sarosh Faheem\n",
      "23\n",
      "Male\n",
      "PY03250\n",
      "saroshfaheem.sf@gmail.com\n",
      "Cisco Python Cerficication\n",
      "2\n",
      "Saylani Foundation\n",
      "Muhammad Ali Mughal\n"
     ]
    }
   ],
   "source": [
    "Student =  {\"Name\": \"Muhammad Sarosh Faheem\",\n",
    "                 \"Age\": 23,\n",
    "                  \"Gender\": \"Male\",\n",
    "                  \"Roll No\": \"PY03250\",\n",
    "                  \"email ID\": \"saroshfaheem.sf@gmail.com\",\n",
    "                  \"Course\": \"Cisco Python Cerficication\",\n",
    "            \"Assignment\": 2,\n",
    "                  \"Institute\": \"Saylani Foundation\",\n",
    "                  \"Faculty\": \"Muhammad Ali Mughal\"}\n",
    "                 \n",
    "\n",
    "for Data in Student.values(): \n",
    "    print(Data)\n",
    "    # Remove the #\n",
    "#print(Student[\"Enter Key\"])\n",
    "#print(Student[\"Ente Key\"])"
   ]
  },
  {
   "cell_type": "code",
   "execution_count": null,
   "metadata": {
    "scrolled": true
   },
   "outputs": [],
   "source": [
    "#Sequence Of Questions\n",
    "'''Q1: Write a program which takes 5 inputs from user for different subject’s marks, total it and generate mark sheet\n",
    "using grades?\n",
    "\n",
    "Q2: Write a Program which take input from user and identify that the given number is even or odd?\n",
    "\n",
    "Q3: Write a program which print the length of the list?\n",
    "\n",
    "Q4: Write a Python program to sum all the numeric items in a list?\n",
    "\n",
    "Q5: Write a Python program to get the largest number from a numeric list.\n",
    "\n",
    "Q6:  Take a list, say for example this one:\n",
    "\tA= [1, 1, 2, 3, 5, 8, 11, 23, 21, 24, 55, 89]\n",
    "And write a program that prints out all the elements of the list that are less than 5.'''"
   ]
  },
  {
   "cell_type": "code",
   "execution_count": 42,
   "metadata": {},
   "outputs": [
    {
     "name": "stdout",
     "output_type": "stream",
     "text": [
      "50\n",
      "10\n",
      "10\n",
      "1\n"
     ]
    }
   ],
   "source": [
    "#Q3\n",
    "#Q4\n",
    "#Q5\n",
    "#SUM LIST\n",
    "#LIST Length\n",
    "#Largest Number\n",
    "#Smallest Number\n",
    "Alist = [1, 1, 2, 3, 4, 5, 6, 9, 9, 10]\n",
    "total = sum(Alist)\n",
    "print(total)\n",
    "print(len(Alist))\n",
    "print(max(Alist))\n",
    "print(min(Alist))"
   ]
  },
  {
   "cell_type": "code",
   "execution_count": 31,
   "metadata": {},
   "outputs": [
    {
     "name": "stdout",
     "output_type": "stream",
     "text": [
      "Enter Number: 3\n",
      "3 is Odd\n"
     ]
    }
   ],
   "source": [
    "#Q2\n",
    "#Identify Number Even Or Odd:\n",
    "n = int(input(\"Enter Number: \"))\n",
    "if(n % 2 == 0):\n",
    "    print(n,\"Is Even\")\n",
    "else:\n",
    "    print(n,\"is Odd\")"
   ]
  },
  {
   "cell_type": "code",
   "execution_count": 8,
   "metadata": {},
   "outputs": [
    {
     "name": "stdout",
     "output_type": "stream",
     "text": [
      "1\n",
      "1\n",
      "2\n",
      "3\n"
     ]
    }
   ],
   "source": [
    "#Q6\n",
    "#Conditional Looping:\n",
    "A =  [1, 1, 2, 3, 5, 8, 11, 23, 21, 24, 55, 89]\n",
    "n = 5\n",
    "for i in A:\n",
    "    if i < n:\n",
    "        print(i)"
   ]
  },
  {
   "cell_type": "code",
   "execution_count": null,
   "metadata": {},
   "outputs": [],
   "source": [
    "#Q1:\n",
    "#Marksheet Grading:\n",
    "mth = int(input(\"Maths: \"))\n",
    "phy = int(input(\"Physics: \"))\n",
    "che = int(input(\"Chemistry: \"))\n",
    "cs = int(input(\"Computer Science: \"))\n",
    "bio = int(input(\"Biology: \"))\n",
    "\n",
    "total=(mth+phy+che+cs+bio)/5\n",
    "if total >= 90:\n",
    "    print(\"Grade A+\")\n",
    "elif total >= 89:\n",
    "    print(\"Grade A\")\n",
    "elif total >= 77:\n",
    "    print(\"Grade B\")\n",
    "elif total >= 65:\n",
    "    Print(\"Grade C\")\n",
    "elif total >= 60:\n",
    "    print(\"Grade D\")\n",
    "else:\n",
    "    print(\"Fail\")"
   ]
  }
 ],
 "metadata": {
  "kernelspec": {
   "display_name": "Python 3",
   "language": "python",
   "name": "python3"
  },
  "language_info": {
   "codemirror_mode": {
    "name": "ipython",
    "version": 3
   },
   "file_extension": ".py",
   "mimetype": "text/x-python",
   "name": "python",
   "nbconvert_exporter": "python",
   "pygments_lexer": "ipython3",
   "version": "3.7.4"
  }
 },
 "nbformat": 4,
 "nbformat_minor": 2
}
